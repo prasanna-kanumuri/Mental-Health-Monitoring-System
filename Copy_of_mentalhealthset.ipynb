{
  "cells": [
    {
      "cell_type": "code",
      "execution_count": 1,
      "metadata": {
        "id": "VYeJwB1wT13a"
      },
      "outputs": [],
      "source": [
        "import pandas as pd\n",
        "from sklearn.model_selection import train_test_split\n",
        "from sklearn.preprocessing import StandardScaler\n",
        "from sklearn.ensemble import RandomForestClassifier\n",
        "from sklearn.metrics import accuracy_score\n"
      ]
    },
    {
      "cell_type": "code",
      "execution_count": 2,
      "metadata": {
        "id": "h0aVjiJhT408"
      },
      "outputs": [],
      "source": [
        "# Load the dataset\n",
        "data = pd.read_csv('Student Mental Health Analysis (Responses) (1).csv')\n",
        "\n",
        "# Separate features (X) and labels (y)\n",
        "X = data.drop('Concentration score', axis=1)  # Replace 'target_column_name' with the actual label column name\n",
        "y = data['Concentration score']\n"
      ]
    },
    {
      "cell_type": "code",
      "execution_count": null,
      "metadata": {
        "id": "IUrg18B_wgg4"
      },
      "outputs": [],
      "source": []
    },
    {
      "cell_type": "code",
      "execution_count": 3,
      "metadata": {
        "id": "9xMjxZJ8T47p"
      },
      "outputs": [],
      "source": [
        "X_train, X_test, y_train, y_test = train_test_split(X, y, test_size=0.2, random_state=42)\n"
      ]
    },
    {
      "cell_type": "code",
      "execution_count": 4,
      "metadata": {
        "colab": {
          "base_uri": "https://localhost:8080/"
        },
        "id": "ePqAfqnqT5CV",
        "outputId": "f4438424-e9c9-44a6-aa55-c71b8eff959d"
      },
      "outputs": [
        {
          "name": "stdout",
          "output_type": "stream",
          "text": [
            "Numeric columns: ['Concentration score', 'mobile usage per day']\n"
          ]
        }
      ],
      "source": [
        "numeric_columns = []\n",
        "\n",
        "# Assuming 'data' is your DataFrame containing the dataset\n",
        "for column in data.columns:\n",
        "    if data[column].dtype in ['int64', 'float64']:\n",
        "        numeric_columns.append(column)\n",
        "\n",
        "print(\"Numeric columns:\", numeric_columns)\n"
      ]
    },
    {
      "cell_type": "code",
      "execution_count": 5,
      "metadata": {
        "colab": {
          "base_uri": "https://localhost:8080/"
        },
        "id": "H9nu7aCNWZiU",
        "outputId": "20fb42d9-ee84-4da8-d609-24b206ce4085"
      },
      "outputs": [
        {
          "name": "stdout",
          "output_type": "stream",
          "text": [
            "Index(['Timestamp', 'Department', 'Gender',\n",
            "       'Are you doing your undergraduate or postgraduate?',\n",
            "       'status of students', 'Breakfast', 'Sleep time interval',\n",
            "       'usage of mobile 1 hr before sleep',\n",
            "       'Reasons for not sleeping on time ', 'Concentration level in class',\n",
            "       'mobile usage per day', 'most used app', 'Tiredness', 'Major problem',\n",
            "       'Anxiety problem', 'Adequate sleep ', 'Types of  Anxiety problems ',\n",
            "       'Single child', 'Single parent', 'Self satisfaction'],\n",
            "      dtype='object')\n"
          ]
        }
      ],
      "source": [
        "print(X_train.columns)\n"
      ]
    },
    {
      "cell_type": "code",
      "execution_count": 6,
      "metadata": {
        "id": "_GRAh0AMWiBU"
      },
      "outputs": [],
      "source": [
        "numeric_columns = ['Concentration Score', 'mobile usage per day']\n"
      ]
    },
    {
      "cell_type": "code",
      "execution_count": 7,
      "metadata": {
        "id": "J5p5atDvT5Fs"
      },
      "outputs": [],
      "source": [
        "# Assuming non-numeric columns are 'timestamp_column_name' and 'category_column_name'\n",
        "numeric_columns = ['mobile usage per day'] # List of numeric column names\n",
        "\n",
        "X_train_numeric = X_train[numeric_columns]\n",
        "X_test_numeric = X_test[numeric_columns]\n",
        "\n",
        "scaler = StandardScaler()\n",
        "X_train_scaled = scaler.fit_transform(X_train_numeric)\n",
        "X_test_scaled = scaler.transform(X_test_numeric)\n"
      ]
    },
    {
      "cell_type": "code",
      "execution_count": 8,
      "metadata": {
        "colab": {
          "base_uri": "https://localhost:8080/"
        },
        "id": "1IUkcNqVT5MM",
        "outputId": "a32a6a67-54bc-46df-91c0-086c447fddfe"
      },
      "outputs": [
        {
          "name": "stderr",
          "output_type": "stream",
          "text": [
            "C:\\Users\\Madhuri G\\AppData\\Local\\Temp\\ipykernel_13052\\3335100728.py:27: SettingWithCopyWarning: \n",
            "A value is trying to be set on a copy of a slice from a DataFrame.\n",
            "Try using .loc[row_indexer,col_indexer] = value instead\n",
            "\n",
            "See the caveats in the documentation: https://pandas.pydata.org/pandas-docs/stable/user_guide/indexing.html#returning-a-view-versus-a-copy\n",
            "  X[column] = label_encoders[column].fit_transform(X[column])\n",
            "C:\\Users\\Madhuri G\\AppData\\Local\\Temp\\ipykernel_13052\\3335100728.py:27: SettingWithCopyWarning: \n",
            "A value is trying to be set on a copy of a slice from a DataFrame.\n",
            "Try using .loc[row_indexer,col_indexer] = value instead\n",
            "\n",
            "See the caveats in the documentation: https://pandas.pydata.org/pandas-docs/stable/user_guide/indexing.html#returning-a-view-versus-a-copy\n",
            "  X[column] = label_encoders[column].fit_transform(X[column])\n",
            "C:\\Users\\Madhuri G\\AppData\\Local\\Temp\\ipykernel_13052\\3335100728.py:27: SettingWithCopyWarning: \n",
            "A value is trying to be set on a copy of a slice from a DataFrame.\n",
            "Try using .loc[row_indexer,col_indexer] = value instead\n",
            "\n",
            "See the caveats in the documentation: https://pandas.pydata.org/pandas-docs/stable/user_guide/indexing.html#returning-a-view-versus-a-copy\n",
            "  X[column] = label_encoders[column].fit_transform(X[column])\n",
            "C:\\Users\\Madhuri G\\AppData\\Local\\Temp\\ipykernel_13052\\3335100728.py:27: SettingWithCopyWarning: \n",
            "A value is trying to be set on a copy of a slice from a DataFrame.\n",
            "Try using .loc[row_indexer,col_indexer] = value instead\n",
            "\n",
            "See the caveats in the documentation: https://pandas.pydata.org/pandas-docs/stable/user_guide/indexing.html#returning-a-view-versus-a-copy\n",
            "  X[column] = label_encoders[column].fit_transform(X[column])\n",
            "C:\\Users\\Madhuri G\\AppData\\Local\\Temp\\ipykernel_13052\\3335100728.py:27: SettingWithCopyWarning: \n",
            "A value is trying to be set on a copy of a slice from a DataFrame.\n",
            "Try using .loc[row_indexer,col_indexer] = value instead\n",
            "\n",
            "See the caveats in the documentation: https://pandas.pydata.org/pandas-docs/stable/user_guide/indexing.html#returning-a-view-versus-a-copy\n",
            "  X[column] = label_encoders[column].fit_transform(X[column])\n",
            "C:\\Users\\Madhuri G\\AppData\\Local\\Temp\\ipykernel_13052\\3335100728.py:27: SettingWithCopyWarning: \n",
            "A value is trying to be set on a copy of a slice from a DataFrame.\n",
            "Try using .loc[row_indexer,col_indexer] = value instead\n",
            "\n",
            "See the caveats in the documentation: https://pandas.pydata.org/pandas-docs/stable/user_guide/indexing.html#returning-a-view-versus-a-copy\n",
            "  X[column] = label_encoders[column].fit_transform(X[column])\n",
            "C:\\Users\\Madhuri G\\AppData\\Local\\Temp\\ipykernel_13052\\3335100728.py:27: SettingWithCopyWarning: \n",
            "A value is trying to be set on a copy of a slice from a DataFrame.\n",
            "Try using .loc[row_indexer,col_indexer] = value instead\n",
            "\n",
            "See the caveats in the documentation: https://pandas.pydata.org/pandas-docs/stable/user_guide/indexing.html#returning-a-view-versus-a-copy\n",
            "  X[column] = label_encoders[column].fit_transform(X[column])\n",
            "C:\\Users\\Madhuri G\\AppData\\Local\\Temp\\ipykernel_13052\\3335100728.py:27: SettingWithCopyWarning: \n",
            "A value is trying to be set on a copy of a slice from a DataFrame.\n",
            "Try using .loc[row_indexer,col_indexer] = value instead\n",
            "\n",
            "See the caveats in the documentation: https://pandas.pydata.org/pandas-docs/stable/user_guide/indexing.html#returning-a-view-versus-a-copy\n",
            "  X[column] = label_encoders[column].fit_transform(X[column])\n",
            "C:\\Users\\Madhuri G\\AppData\\Local\\Temp\\ipykernel_13052\\3335100728.py:27: SettingWithCopyWarning: \n",
            "A value is trying to be set on a copy of a slice from a DataFrame.\n",
            "Try using .loc[row_indexer,col_indexer] = value instead\n",
            "\n",
            "See the caveats in the documentation: https://pandas.pydata.org/pandas-docs/stable/user_guide/indexing.html#returning-a-view-versus-a-copy\n",
            "  X[column] = label_encoders[column].fit_transform(X[column])\n",
            "C:\\Users\\Madhuri G\\AppData\\Local\\Temp\\ipykernel_13052\\3335100728.py:27: SettingWithCopyWarning: \n",
            "A value is trying to be set on a copy of a slice from a DataFrame.\n",
            "Try using .loc[row_indexer,col_indexer] = value instead\n",
            "\n",
            "See the caveats in the documentation: https://pandas.pydata.org/pandas-docs/stable/user_guide/indexing.html#returning-a-view-versus-a-copy\n",
            "  X[column] = label_encoders[column].fit_transform(X[column])\n",
            "C:\\Users\\Madhuri G\\AppData\\Local\\Temp\\ipykernel_13052\\3335100728.py:27: SettingWithCopyWarning: \n",
            "A value is trying to be set on a copy of a slice from a DataFrame.\n",
            "Try using .loc[row_indexer,col_indexer] = value instead\n",
            "\n",
            "See the caveats in the documentation: https://pandas.pydata.org/pandas-docs/stable/user_guide/indexing.html#returning-a-view-versus-a-copy\n",
            "  X[column] = label_encoders[column].fit_transform(X[column])\n",
            "C:\\Users\\Madhuri G\\AppData\\Local\\Temp\\ipykernel_13052\\3335100728.py:27: SettingWithCopyWarning: \n",
            "A value is trying to be set on a copy of a slice from a DataFrame.\n",
            "Try using .loc[row_indexer,col_indexer] = value instead\n",
            "\n",
            "See the caveats in the documentation: https://pandas.pydata.org/pandas-docs/stable/user_guide/indexing.html#returning-a-view-versus-a-copy\n",
            "  X[column] = label_encoders[column].fit_transform(X[column])\n"
          ]
        },
        {
          "name": "stdout",
          "output_type": "stream",
          "text": [
            "Accuracy: 85.00%\n"
          ]
        }
      ],
      "source": [
        "import pandas as pd\n",
        "from sklearn.model_selection import train_test_split\n",
        "from sklearn.preprocessing import LabelEncoder\n",
        "from sklearn.ensemble import RandomForestClassifier\n",
        "from sklearn.metrics import accuracy_score\n",
        "\n",
        "# Load your dataset (replace 'your_dataset.csv' with your actual dataset file)\n",
        "data = pd.read_csv('Student Mental Health Analysis (Responses) (1).csv')\n",
        "\n",
        "# Define the target column and features\n",
        "target_column = 'Concentration score'  # Replace with your actual target column name\n",
        "features = ['Department', 'Gender', 'Are you doing your undergraduate or postgraduate?',\n",
        "            'status of students', 'Breakfast', 'Sleep time interval',\n",
        "            'usage of mobile 1 hr before sleep',\n",
        "            'Concentration score', 'Concentration level in class', 'mobile usage per day',\n",
        "            'most used app', 'Major problem', 'Anxiety problem', 'Single child']\n",
        "\n",
        "# Extract the features and target variable\n",
        "X = data[features]\n",
        "y = data[target_column]\n",
        "\n",
        "# Perform label encoding for categorical columns\n",
        "label_encoders = {}\n",
        "for column in X.columns:\n",
        "    if X[column].dtype == 'object':\n",
        "        label_encoders[column] = LabelEncoder()\n",
        "        X[column] = label_encoders[column].fit_transform(X[column])\n",
        "\n",
        "# Split the data into training and testing sets\n",
        "X_train, X_test, y_train, y_test = train_test_split(X, y, test_size=0.2, random_state=42)\n",
        "\n",
        "# Train a machine learning model (Random Forest Classifier in this example)\n",
        "model = RandomForestClassifier(n_estimators=100, random_state=42)\n",
        "model.fit(X_train, y_train)\n",
        "\n",
        "# Make predictions on the test set\n",
        "y_pred = model.predict(X_test)\n",
        "\n",
        "# Evaluate the model's accuracy\n",
        "accuracy = accuracy_score(y_test, y_pred)\n",
        "print(f\"Accuracy: {accuracy * 100:.2f}%\")\n"
      ]
    },
    {
      "cell_type": "code",
      "execution_count": 9,
      "metadata": {
        "colab": {
          "base_uri": "https://localhost:8080/"
        },
        "id": "SUrjp3MlT5Qp",
        "outputId": "99c9fa09-85e5-488f-de9f-94f4587ef4bb"
      },
      "outputs": [
        {
          "name": "stdout",
          "output_type": "stream",
          "text": [
            "Accuracy: 85.00%\n"
          ]
        }
      ],
      "source": [
        "import joblib\n",
        "\n",
        "# Initialize variables to keep track of the best model and accuracy\n",
        "best_accuracy = 0.0\n",
        "best_model = None\n",
        "\n",
        "# Train a machine learning model (Random Forest Classifier in this example)\n",
        "model = RandomForestClassifier(n_estimators=100, random_state=42)\n",
        "model.fit(X_train, y_train)\n",
        "\n",
        "# Make predictions on the test set\n",
        "y_pred = model.predict(X_test)\n",
        "\n",
        "# Evaluate the model's accuracy\n",
        "accuracy = accuracy_score(y_test, y_pred)\n",
        "\n",
        "# Check if the current model has a better accuracy than the best model\n",
        "if accuracy > best_accuracy:\n",
        "    best_accuracy = accuracy\n",
        "    best_model = model\n",
        "\n",
        "    # Save the best model using joblib\n",
        "    joblib.dump(best_model, 'best_model_checkpoint.pkl')\n",
        "\n",
        "print(f\"Accuracy: {accuracy * 100:.2f}%\")\n"
      ]
    },
    {
      "cell_type": "code",
      "execution_count": 10,
      "metadata": {
        "id": "NsexCwjYwify"
      },
      "outputs": [],
      "source": [
        "from flask import Flask, request, jsonify\n",
        "import joblib  # Assuming you've saved your ML model using jobli\n",
        "\n",
        "# Load your trained ML model\n",
        "model = joblib.load('best_model_checkpoint.pkl')"
      ]
    },
    {
      "cell_type": "code",
      "execution_count": null,
      "metadata": {
        "id": "CiECev8wwitG"
      },
      "outputs": [],
      "source": []
    }
  ],
  "metadata": {
    "colab": {
      "provenance": []
    },
    "kernelspec": {
      "display_name": "Python 3",
      "name": "python3"
    },
    "language_info": {
      "codemirror_mode": {
        "name": "ipython",
        "version": 3
      },
      "file_extension": ".py",
      "mimetype": "text/x-python",
      "name": "python",
      "nbconvert_exporter": "python",
      "pygments_lexer": "ipython3",
      "version": "3.10.6"
    }
  },
  "nbformat": 4,
  "nbformat_minor": 0
}
